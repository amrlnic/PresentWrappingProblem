{
 "cells": [
  {
   "cell_type": "code",
   "execution_count": 3,
   "metadata": {},
   "outputs": [
    {
     "name": "stdout",
     "output_type": "stream",
     "text": [
      "[8, 8]\n",
      "4\n",
      "[3, 3, 5, 5]\n",
      "[3, 5, 3, 5]\n",
      "[0, 5, 3, 0]\n",
      "[0, 3, 0, 3]\n"
     ]
    }
   ],
   "source": [
    "from z3 import *\n",
    "import matplotlib.pyplot as plt\n",
    "import pandas as pd\n",
    "\n",
    "\n",
    "###########################################\n",
    "#initialisation\n",
    "n = Int('n')\n",
    "m = Int('m')\n",
    "cardPieces = Int('cardPieces')\n",
    "\n",
    "\n",
    "#Reading data and giving it to n,m,dx,dy,cardPieces \n",
    "df=pd.read_csv('8x8.txt', sep=',',header=None)\n",
    "\n",
    "data = df \n",
    "data=data.to_numpy()   #df to array\n",
    "\n",
    "#data (in strings) 2 arrays\n",
    "[n,m] = [int(i) for i in data[0,0].split()]\n",
    "[cardPieces] = [int(i) for i in data[1,0].split()]\n",
    "\n",
    "dx = IntVector('dx', cardPieces)\n",
    "dy = IntVector('dy', cardPieces)\n",
    "\n",
    "\n",
    "for i in range(cardPieces):\n",
    "     [dx[i], dy[i]] = [int(j) for j in data[i+2,0].split()]\n",
    " \n",
    "\n",
    "\n",
    "print([n,m])\n",
    "print(cardPieces)\n",
    "print(dx)\n",
    "print(dy)\n",
    "\n",
    "#(x,y) = solution coord. \n",
    "x = [ Int('x_%i' % (i + 1)) for i in range(cardPieces)]\n",
    "y = [ Int('y_%i' % (i + 1)) for i in range(cardPieces)]\n",
    "\n",
    "s = Solver()\n",
    "\n",
    "def Abs(x):\n",
    "    return If(x>=0, x, -x)\n",
    "\n",
    "##########################################\n",
    "#constraints\n",
    "    \n",
    "\n",
    "#look only for solutions with the possible values\n",
    "val_c = [ And( 0 <= x[i] , x[i]+dx[i]<=n, 0 <= y[i], y[i]+dy[i]<=m) for i in range(cardPieces)]\n",
    "\n",
    "#like cumulative in miniZinc (* ==m since we don't want empty space at the edge)\n",
    "for t in range(n): \n",
    "    s.add(Sum( [ If(x[i] <= t,1,0) * If(t < x[i] + dx[i],1,0)*dy[i] for i in range(cardPieces)] )  == m)  \n",
    "\n",
    "#if \"overlaping in x direction\" then look for y coord. which makes disjunctive\n",
    "for i in range(cardPieces):\n",
    "    for j in range(i):\n",
    "        s.add(If( And( x[i]+dx[i]>x[j], x[j]+dx[j]>x[i] ), Or( And( Abs(y[i]- y[j]) >= dy[j], y[i]>y[j]), And( Abs(y[i]- y[j]) >= dy[i], y[i]<y[j]) ),True))\n",
    "\n",
    "\n",
    "\n",
    "s.add(val_c)\n",
    "if s.check() == sat:\n",
    "    M = s.model()\n",
    "    r = [ M.evaluate(x[j]) for j in range(cardPieces) ] \n",
    "    s = [ M.evaluate(y[j]) for j in range(cardPieces) ]      \n",
    "    print_matrix(r)\n",
    "    print_matrix(s)\n",
    "    \n",
    "else:\n",
    "    print (\"failed to solve\")\n",
    "    "
   ]
  },
  {
   "cell_type": "code",
   "execution_count": null,
   "metadata": {},
   "outputs": [],
   "source": []
  }
 ],
 "metadata": {
  "kernelspec": {
   "display_name": "Python 3",
   "language": "python",
   "name": "python3"
  },
  "language_info": {
   "codemirror_mode": {
    "name": "ipython",
    "version": 3
   },
   "file_extension": ".py",
   "mimetype": "text/x-python",
   "name": "python",
   "nbconvert_exporter": "python",
   "pygments_lexer": "ipython3",
   "version": "3.7.3"
  }
 },
 "nbformat": 4,
 "nbformat_minor": 4
}
